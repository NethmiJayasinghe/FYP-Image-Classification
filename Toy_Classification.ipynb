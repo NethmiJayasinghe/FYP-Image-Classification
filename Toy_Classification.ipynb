{
  "nbformat": 4,
  "nbformat_minor": 0,
  "metadata": {
    "colab": {
      "name": "Toy Classification.ipynb",
      "provenance": [],
      "collapsed_sections": [],
      "authorship_tag": "ABX9TyMpBNPKnHuuAfr0iT4s55Vm",
      "include_colab_link": true
    },
    "kernelspec": {
      "name": "python3",
      "display_name": "Python 3"
    },
    "language_info": {
      "name": "python"
    }
  },
  "cells": [
    {
      "cell_type": "markdown",
      "metadata": {
        "id": "view-in-github",
        "colab_type": "text"
      },
      "source": [
        "<a href=\"https://colab.research.google.com/github/NethmiJayasinghe/FYP-Image-Classification/blob/main/Toy_Classification.ipynb\" target=\"_parent\"><img src=\"https://colab.research.google.com/assets/colab-badge.svg\" alt=\"Open In Colab\"/></a>"
      ]
    },
    {
      "cell_type": "code",
      "source": [
        "#importing Libraries\n",
        "import numpy as np\n",
        "import tensorflow as tf\n",
        "from tensorflow import keras\n",
        "from keras.models import sequential\n",
        "from keras.layers.core import Dense,Flatten,Dropout\n",
        "from keras.layers.convolutional import Conv2D, MaxPooling2D\n",
        "from tensorflow.keras import layers\n",
        "from tensorflow.keras.utils import to_categorical\n",
        "import scipy\n",
        "from skimage.transform import resize\n",
        "import matplotlib.pyplot as plt\n",
        "import matplotlib.image as mpimg\n",
        "plt.style.use('fivethirtyeight')\n",
        "from PIL import Image"
      ],
      "metadata": {
        "id": "Gjn76V6n5LwS"
      },
      "execution_count": null,
      "outputs": []
    },
    {
      "cell_type": "code",
      "source": [
        "for (dirpath, dirnames, filenames) in os.walk(\"/content/ImageSet/Folded Papers\"):     #change images from jpeg to png\n",
        "  for i in range(300):\n",
        "    im1=Image.open(dirpath+\"/\"+filenames[i])\n",
        "    im1.save(r'/content/ImageSet/Folded Paper/new'+str(i)+'.png')"
      ],
      "metadata": {
        "id": "m4GLQMQZDMmk"
      },
      "execution_count": null,
      "outputs": []
    },
    {
      "cell_type": "code",
      "source": [
        "def makedata(a):           #Function to read and resize image\n",
        "  try:\n",
        "    img=mpimg.imread(a)\n",
        "    res = resize(img, (64,64))\n",
        "    return res\n",
        "  except:\n",
        "    pass\n",
        "\n",
        "datasetnames=[]\n",
        "for i in range (17):\n",
        "  datasetnames+=[\"dataset\"+str(i)]\n",
        "print (len(datasetnames))\n",
        "\n",
        "foldernames=[\"Building Blocks\",\"Dinosaur\",\"Elephant Stuffed\",\"Pencils\",\"Unicorn\",\"Airplane\",\"Teddy Bear\",\"Balls\",\"Toy Cars\",\"Toy Trucks\",\"Telephone\",\"Tea Cup\",\"Cubes\",\"Lion\",\"Toy Boat\",\"Folded Paper\",\"Empty Bottles\"]\n",
        "for i in range(17):\n",
        "  dataset1=[]\n",
        "  for (dirpath, dirnames, filenames) in os.walk(\"/content/ImageSet/\"+foldernames[i]):   #getting images from the folder\n",
        "    A=len(filenames)\n",
        "    for j in range(A):\n",
        "      singledata=makedata(dirpath+\"/\"+filenames[j]) \n",
        "      try:                                                                   #resizing each image\n",
        "        if singledata.shape == (64,64,3):                                    #reshaping images to store\n",
        "          dataset1.append(singledata)\n",
        "      except:\n",
        "        pass\n",
        "  \n",
        "  datasetnames[i] = np.array(dataset1)\n",
        "\n",
        "print (datasetnames[4].shape)"
      ],
      "metadata": {
        "id": "Rgw635qrACuH",
        "colab": {
          "base_uri": "https://localhost:8080/"
        },
        "outputId": "d865a963-163d-46fb-ebd9-0857803db61c"
      },
      "execution_count": null,
      "outputs": [
        {
          "output_type": "stream",
          "name": "stdout",
          "text": [
            "17\n",
            "(300, 64, 64, 3)\n"
          ]
        }
      ]
    },
    {
      "cell_type": "code",
      "source": [
        "for i in range(17):\n",
        "  np.savez(\"dataset\"+str(i)+\".npz\",X=datasetnames[i])"
      ],
      "metadata": {
        "id": "GCdGd0Z6TIVm"
      },
      "execution_count": null,
      "outputs": []
    },
    {
      "cell_type": "code",
      "source": [
        "data=np.load(\"/content/dataset0.npz\") \n",
        "x0=np.array(data[\"X\"]/255)\n",
        "data=np.load(\"/content/dataset1.npz\") \n",
        "x1=np.array(data[\"X\"]/255)\n",
        "data=np.load(\"/content/dataset2.npz\") \n",
        "x2=np.array(data[\"X\"]/255)\n",
        "data=np.load(\"/content/dataset3.npz\") \n",
        "x3=np.array(data[\"X\"]/255)\n",
        "data=np.load(\"/content/dataset4.npz\") \n",
        "x4=np.array(data[\"X\"]/255)\n",
        "data=np.load(\"/content/dataset5.npz\") \n",
        "x5=np.array(data[\"X\"]/255)\n",
        "data=np.load(\"/content/dataset6.npz\") \n",
        "x6=np.array(data[\"X\"]/255)\n",
        "data=np.load(\"/content/dataset7.npz\") \n",
        "x7=np.array(data[\"X\"]/255)\n",
        "data=np.load(\"/content/dataset8.npz\") \n",
        "x8=np.array(data[\"X\"]/255)\n",
        "data=np.load(\"/content/dataset9.npz\") \n",
        "x9=np.array(data[\"X\"]/255)\n",
        "data=np.load(\"/content/dataset10.npz\") \n",
        "x10=np.array(data[\"X\"]/255)\n",
        "data=np.load(\"/content/dataset11.npz\") \n",
        "x11=np.array(data[\"X\"]/255)\n",
        "data=np.load(\"/content/dataset12.npz\") \n",
        "x12=np.array(data[\"X\"]/255)\n",
        "data=np.load(\"/content/dataset13.npz\") \n",
        "x13=np.array(data[\"X\"]/255)\n",
        "data=np.load(\"/content/dataset14.npz\") \n",
        "x14=np.array(data[\"X\"]/255)\n",
        "data=np.load(\"/content/dataset15.npz\") \n",
        "x15=np.array(data[\"X\"]/255)\n",
        "data=np.load(\"/content/dataset16.npz\") \n",
        "x16=np.array(data[\"X\"]/255)\n"
      ],
      "metadata": {
        "id": "P90JNkJQpi0D"
      },
      "execution_count": null,
      "outputs": []
    },
    {
      "cell_type": "code",
      "source": [
        "print (x16.shape)"
      ],
      "metadata": {
        "colab": {
          "base_uri": "https://localhost:8080/"
        },
        "id": "eYjbAqgd4GHK",
        "outputId": "14e44317-6ec7-492f-ae8c-821492248bb5"
      },
      "execution_count": null,
      "outputs": [
        {
          "output_type": "stream",
          "name": "stdout",
          "text": [
            "(300, 64, 64, 3)\n"
          ]
        }
      ]
    },
    {
      "cell_type": "code",
      "source": [
        "xx1 = np.concatenate((x0,x1,x2))\n",
        "xx2 = np.concatenate((x3,x4,x5))\n",
        "xx3 = np.concatenate((x6,x7,x8))\n",
        "xx4 = np.concatenate((x9,x10,x11))\n",
        "xx5 = np.concatenate((x12,x13,x14))\n",
        "xx6 = np.concatenate((x15,x16))\n",
        "xx7 = np.concatenate((xx1,xx2,xx3))\n",
        "xx8 = np.concatenate((xx4,xx5,xx6))\n",
        "\n",
        "Xdata = np.concatenate((xx7,xx8))"
      ],
      "metadata": {
        "id": "PHzM-Je54O24"
      },
      "execution_count": null,
      "outputs": []
    },
    {
      "cell_type": "code",
      "source": [
        "print (x0[10])"
      ],
      "metadata": {
        "id": "x3vEI2WO59ca"
      },
      "execution_count": null,
      "outputs": []
    },
    {
      "cell_type": "code",
      "source": [
        "img = plt.imshow(x0[10]*255)        #check assign label with an image\n",
        "print(img)"
      ],
      "metadata": {
        "id": "5UpdtyB99Yft",
        "colab": {
          "base_uri": "https://localhost:8080/",
          "height": 302
        },
        "outputId": "d033e784-76c2-40e4-86a4-199f0189aab1"
      },
      "execution_count": null,
      "outputs": [
        {
          "output_type": "stream",
          "name": "stdout",
          "text": [
            "AxesImage(34.56,20.16;375.84x233.28)\n"
          ]
        },
        {
          "output_type": "display_data",
          "data": {
            "text/plain": [
              "<Figure size 432x288 with 1 Axes>"
            ],
            "image/png": "[encoded data removed]"
          },
          "metadata": {}
        }
      ]
    },
    {
      "cell_type": "code",
      "source": [
        "Yzeros= np.zeros(300,float)            #make array of zeros\n",
        "\n",
        "Yones= np.ones(300,float)            #make array of zeros"
      ],
      "metadata": {
        "id": "DMMqoDKl8Ibn"
      },
      "execution_count": null,
      "outputs": []
    },
    {
      "cell_type": "code",
      "source": [
        "twos=Yones+Yones\n",
        "threes = twos+Yones\n",
        "fours= threes+Yones\n",
        "fives = fours+Yones\n",
        "sixes = fives+Yones\n",
        "sevens = sixes+Yones\n",
        "eights = sevens +Yones\n",
        "nines = eights +Yones\n",
        "tens = nines + Yones\n",
        "elevens = tens + Yones\n",
        "twelews = elevens + Yones\n",
        "thirteens = twelews + Yones\n",
        "Fourteens = thirteens + Yones\n",
        "Fifteens = Fourteens + Yones\n",
        "Sixteens = Fifteens + Yones\n",
        "r=np.concatenate((Yzeros,Yones,twos,threes,fours,fives,sixes,sevens,eights,nines,tens,elevens, twelews,thirteens,Fourteens, Fifteens, Sixteens))\n",
        "Ydata=r.reshape(5100,1)"
      ],
      "metadata": {
        "id": "F6iq8i8h8c50"
      },
      "execution_count": null,
      "outputs": []
    },
    {
      "cell_type": "code",
      "source": [
        "c= np.arange(Xdata.shape[0])    #Shuffle both datasets in same order\n",
        "np.random.shuffle(c)\n",
        "\n",
        "Xdata = Xdata[c]\n",
        "Ydata = Ydata[c]"
      ],
      "metadata": {
        "id": "-Wh7H7gsYCtO"
      },
      "execution_count": null,
      "outputs": []
    },
    {
      "cell_type": "code",
      "source": [
        "img = plt.imshow(Xdata[200]*255)        #check assign label with an image\n",
        "print(foldernames[int(Ydata[200])])"
      ],
      "metadata": {
        "colab": {
          "base_uri": "https://localhost:8080/",
          "height": 302
        },
        "id": "XFnbhaMbYrr3",
        "outputId": "cbc416a9-aaf8-4f24-b413-69237ca6a86b"
      },
      "execution_count": null,
      "outputs": [
        {
          "output_type": "stream",
          "name": "stdout",
          "text": [
            "Cubes\n"
          ]
        },
        {
          "output_type": "display_data",
          "data": {
            "text/plain": [
              "<Figure size 432x288 with 1 Axes>"
            ],
            "image/png": "[encoded data removed]"
          },
          "metadata": {}
        }
      ]
    },
    {
      "cell_type": "code",
      "source": [
        "x_train = Xdata[0:4080]         \n",
        "x_test = Xdata[4080:5100]\n",
        "y_train = Ydata[0:4080]\n",
        "y_test = Ydata[4080:5100]\n",
        "print(x_train.shape)                   #Check datatype\n",
        "print(x_test.shape)\n",
        "print(y_train.shape)\n",
        "print(y_test.shape)"
      ],
      "metadata": {
        "colab": {
          "base_uri": "https://localhost:8080/"
        },
        "id": "Xe8VaLVrZCd5",
        "outputId": "cf27437e-5116-41ce-97dc-3e4a4f7d833d"
      },
      "execution_count": null,
      "outputs": [
        {
          "output_type": "stream",
          "name": "stdout",
          "text": [
            "(4080, 64, 64, 3)\n",
            "(1020, 64, 64, 3)\n",
            "(4080, 1)\n",
            "(1020, 1)\n"
          ]
        }
      ]
    },
    {
      "cell_type": "code",
      "source": [
        "Classification=[\"Building Blocks\",\"Dinosaur\",\"Elephant Stuffed\",\"Pencils\",\"Unicorn\",\"Airplane\",\"Teddy Bear\",\"Balls\",\"Toy Cars\",\"Toy Trucks\",\"Telephone\",\"Tea Cup\",\"Cubes\",\"Lion\",\"Toy Boat\",\"Folded Papers\",\"Empty Bottles\"]         #Data labels\n",
        "y_train_one = to_categorical(y_train)                     #make y dataset to asign data labels\n",
        "y_test_one = to_categorical(y_test)\n",
        "print(y_train_one[3])\n",
        "print(y_test_one.shape)"
      ],
      "metadata": {
        "colab": {
          "base_uri": "https://localhost:8080/"
        },
        "id": "gSBkSTG3ZtDE",
        "outputId": "abdd45f7-0013-4e6b-d0d7-2d849c9c7a4d"
      },
      "execution_count": null,
      "outputs": [
        {
          "output_type": "stream",
          "name": "stdout",
          "text": [
            "[0. 0. 0. 0. 0. 0. 0. 0. 0. 0. 0. 0. 0. 0. 1. 0. 0.]\n",
            "(1020, 17)\n"
          ]
        }
      ]
    },
    {
      "cell_type": "code",
      "source": [
        "print(y_train[6])\n",
        "print(y_train_one[6])"
      ],
      "metadata": {
        "colab": {
          "base_uri": "https://localhost:8080/"
        },
        "id": "LYAH1JJ-R5US",
        "outputId": "077b4fb6-7511-46e7-cad2-d6161e378128"
      },
      "execution_count": null,
      "outputs": [
        {
          "output_type": "stream",
          "name": "stdout",
          "text": [
            "[4.]\n",
            "[0. 0. 0. 0. 1. 0. 0. 0. 0. 0. 0. 0. 0. 0. 0. 0. 0.]\n"
          ]
        }
      ]
    },
    {
      "cell_type": "code",
      "source": [
        "#create the model architecture\n",
        "model = tf.keras.Sequential()\n",
        "#Add first layer\n",
        "model.add(Conv2D(64,(5,5), activation = 'relu', input_shape=(64,64,3)))\n",
        "#Add pooling layer\n",
        "model.add(MaxPooling2D(pool_size=(2,2)))\n",
        "#Add another convolutional layer\n",
        "model.add(Conv2D(64,(5,5), activation = 'relu'))\n",
        "#Add another pooling layer\n",
        "model.add(MaxPooling2D(pool_size=(2,2)))\n",
        "#Add a flattening layer\n",
        "model.add(Flatten())\n",
        "\n",
        "model.add(Dense(500, activation = 'relu'))\n",
        "#Add a dropout layer\n",
        "model.add(Dropout(0.5))\n",
        "#Add a layer with 250 neurons\n",
        "model.add(Dense(250, activation = 'relu'))\n",
        "#Add a layer with 17 neurons\n",
        "model.add(Dense(17, activation = 'softmax'))"
      ],
      "metadata": {
        "id": "C2UkSQbwZ67O"
      },
      "execution_count": null,
      "outputs": []
    },
    {
      "cell_type": "code",
      "source": [
        "#Compile the model\n",
        "model.compile(loss='categorical_crossentropy', optimizer = 'adam', metrics = ['accuracy'])"
      ],
      "metadata": {
        "id": "cXN4EiYFaCsS"
      },
      "execution_count": null,
      "outputs": []
    },
    {
      "cell_type": "code",
      "source": [
        "#Train the model\n",
        "hist = model.fit(x_train, y_train_one, batch_size = 256, epochs = 15, validation_split = 0.2)"
      ],
      "metadata": {
        "id": "lgtmkYd-aJsH"
      },
      "execution_count": null,
      "outputs": []
    },
    {
      "cell_type": "code",
      "source": [
        "#Evaluate the model using test data set\n",
        "model.evaluate(x_test, y_test_one)[1]"
      ],
      "metadata": {
        "colab": {
          "base_uri": "https://localhost:8080/"
        },
        "id": "Vtwnqz_dtPKE",
        "outputId": "94c16975-e758-4db6-dd78-6781281c1add"
      },
      "execution_count": null,
      "outputs": [
        {
          "output_type": "stream",
          "name": "stdout",
          "text": [
            "32/32 [==============================] - 4s 116ms/step - loss: 0.5670 - accuracy: 0.8324\n"
          ]
        },
        {
          "output_type": "execute_result",
          "data": {
            "text/plain": [
              "0.8323529362678528"
            ]
          },
          "metadata": {},
          "execution_count": 247
        }
      ]
    },
    {
      "cell_type": "code",
      "source": [
        "#Visualize the models accuracy\n",
        "plt.plot(hist.history['accuracy'])\n",
        "plt.plot(hist.history['val_accuracy'])\n",
        "plt.title('Model Accuracy')\n",
        "plt.ylabel('Accuracy')\n",
        "plt.xlabel('Epoch')\n",
        "plt.legend(['Train', 'Val'], loc='upper left')\n",
        "plt.show()"
      ],
      "metadata": {
        "colab": {
          "base_uri": "https://localhost:8080/",
          "height": 325
        },
        "id": "jxQXyHIguJrg",
        "outputId": "b393b6ec-5251-4d56-e8c8-37c103bc5c3b"
      },
      "execution_count": null,
      "outputs": [
        {
          "output_type": "display_data",
          "data": {
            "text/plain": [
              "<Figure size 432x288 with 1 Axes>"
            ],
            "image/png": "[encoded data removed]"
          },
          "metadata": {}
        }
      ]
    },
    {
      "cell_type": "code",
      "source": [
        "#Visualizing the models loss\n",
        "plt.plot(hist.history['loss'])\n",
        "plt.plot(hist.history['val_loss'])\n",
        "plt.title('Model loss')\n",
        "plt.ylabel('Loss')\n",
        "plt.xlabel('Epoch')\n",
        "plt.legend(['Train', 'Val'], loc='upper right')\n",
        "plt.show()"
      ],
      "metadata": {
        "colab": {
          "base_uri": "https://localhost:8080/",
          "height": 325
        },
        "id": "dr2cMILMuRuZ",
        "outputId": "d866c14f-4c74-4573-b29c-59c98c745815"
      },
      "execution_count": null,
      "outputs": [
        {
          "output_type": "display_data",
          "data": {
            "text/plain": [
              "<Figure size 432x288 with 1 Axes>"
            ],
            "image/png": "[encoded data removed]"
          },
          "metadata": {}
        }
      ]
    },
    {
      "cell_type": "code",
      "source": [
        "#Test the model with an example\n",
        "from google.colab import files\n",
        "uploaded = files.upload()"
      ],
      "metadata": {
        "colab": {
          "resources": {
            "http://localhost:8080/nbextensions/google.colab/files.js": {
              "data": "Ly8gQ29weXJpZ2h0IDIwMTcgR29vZ2xlIExMQwovLwovLyBMaWNlbnNlZCB1bmRlciB0aGUgQXBhY2hlIExpY2Vuc2UsIFZlcnNpb24gMi4wICh0aGUgIkxpY2Vuc2UiKTsKLy8geW91IG1heSBub3QgdXNlIHRoaXMgZmlsZSBleGNlcHQgaW4gY29tcGxpYW5jZSB3aXRoIHRoZSBMaWNlbnNlLgovLyBZb3UgbWF5IG9idGFpbiBhIGNvcHkgb2YgdGhlIExpY2Vuc2UgYXQKLy8KLy8gICAgICBodHRwOi8vd3d3LmFwYWNoZS5vcmcvbGljZW5zZXMvTElDRU5TRS0yLjAKLy8KLy8gVW5sZXNzIHJlcXVpcmVkIGJ5IGFwcGxpY2FibGUgbGF3IG9yIGFncmVlZCB0byBpbiB3cml0aW5nLCBzb2Z0d2FyZQovLyBkaXN0cmlidXRlZCB1bmRlciB0aGUgTGljZW5zZSBpcyBkaXN0cmlidXRlZCBvbiBhbiAiQVMgSVMiIEJBU0lTLAovLyBXSVRIT1VUIFdBUlJBTlRJRVMgT1IgQ09ORElUSU9OUyBPRiBBTlkgS0lORCwgZWl0aGVyIGV4cHJlc3Mgb3IgaW1wbGllZC4KLy8gU2VlIHRoZSBMaWNlbnNlIGZvciB0aGUgc3BlY2lmaWMgbGFuZ3VhZ2UgZ292ZXJuaW5nIHBlcm1pc3Npb25zIGFuZAovLyBsaW1pdGF0aW9ucyB1bmRlciB0aGUgTGljZW5zZS4KCi8qKgogKiBAZmlsZW92ZXJ2aWV3IEhlbHBlcnMgZm9yIGdvb2dsZS5jb2xhYiBQeXRob24gbW9kdWxlLgogKi8KKGZ1bmN0aW9uKHNjb3BlKSB7CmZ1bmN0aW9uIHNwYW4odGV4dCwgc3R5bGVBdHRyaWJ1dGVzID0ge30pIHsKICBjb25zdCBlbGVtZW50ID0gZG9jdW1lbnQuY3JlYXRlRWxlbWVudCgnc3BhbicpOwogIGVsZW1lbnQudGV4dENvbnRlbnQgPSB0ZXh0OwogIGZvciAoY29uc3Qga2V5IG9mIE9iamVjdC5rZXlzKHN0eWxlQXR0cmlidXRlcykpIHsKICAgIGVsZW1lbnQuc3R5bGVba2V5XSA9IHN0eWxlQXR0cmlidXRlc1trZXldOwogIH0KICByZXR1cm4gZWxlbWVudDsKfQoKLy8gTWF4IG51bWJlciBvZiBieXRlcyB3aGljaCB3aWxsIGJlIHVwbG9hZGVkIGF0IGEgdGltZS4KY29uc3QgTUFYX1BBWUxPQURfU0laRSA9IDEwMCAqIDEwMjQ7CgpmdW5jdGlvbiBfdXBsb2FkRmlsZXMoaW5wdXRJZCwgb3V0cHV0SWQpIHsKICBjb25zdCBzdGVwcyA9IHVwbG9hZEZpbGVzU3RlcChpbnB1dElkLCBvdXRwdXRJZCk7CiAgY29uc3Qgb3V0cHV0RWxlbWVudCA9IGRvY3VtZW50LmdldEVsZW1lbnRCeUlkKG91dHB1dElkKTsKICAvLyBDYWNoZSBzdGVwcyBvbiB0aGUgb3V0cHV0RWxlbWVudCB0byBtYWtlIGl0IGF2YWlsYWJsZSBmb3IgdGhlIG5leHQgY2FsbAogIC8vIHRvIHVwbG9hZEZpbGVzQ29udGludWUgZnJvbSBQeXRob24uCiAgb3V0cHV0RWxlbWVudC5zdGVwcyA9IHN0ZXBzOwoKICByZXR1cm4gX3VwbG9hZEZpbGVzQ29udGludWUob3V0cHV0SWQpOwp9CgovLyBUaGlzIGlzIHJvdWdobHkgYW4gYXN5bmMgZ2VuZXJhdG9yIChub3Qgc3VwcG9ydGVkIGluIHRoZSBicm93c2VyIHlldCksCi8vIHdoZXJlIHRoZXJlIGFyZSBtdWx0aXBsZSBhc3luY2hyb25vdXMgc3RlcHMgYW5kIHRoZSBQeXRob24gc2lkZSBpcyBnb2luZwovLyB0byBwb2xsIGZvciBjb21wbGV0aW9uIG9mIGVhY2ggc3RlcC4KLy8gVGhpcyB1c2VzIGEgUHJvbWlzZSB0byBibG9jayB0aGUgcHl0aG9uIHNpZGUgb24gY29tcGxldGlvbiBvZiBlYWNoIHN0ZXAsCi8vIHRoZW4gcGFzc2VzIHRoZSByZXN1bHQgb2YgdGhlIHByZXZpb3VzIHN0ZXAgYXMgdGhlIGlucHV0IHRvIHRoZSBuZXh0IHN0ZXAuCmZ1bmN0aW9uIF91cGxvYWRGaWxlc0NvbnRpbnVlKG91dHB1dElkKSB7CiAgY29uc3Qgb3V0cHV0RWxlbWVudCA9IGRvY3VtZW50LmdldEVsZW1lbnRCeUlkKG91dHB1dElkKTsKICBjb25zdCBzdGVwcyA9IG91dHB1dEVsZW1lbnQuc3RlcHM7CgogIGNvbnN0IG5leHQgPSBzdGVwcy5uZXh0KG91dHB1dEVsZW1lbnQubGFzdFByb21pc2VWYWx1ZSk7CiAgcmV0dXJuIFByb21pc2UucmVzb2x2ZShuZXh0LnZhbHVlLnByb21pc2UpLnRoZW4oKHZhbHVlKSA9PiB7CiAgICAvLyBDYWNoZSB0aGUgbGFzdCBwcm9taXNlIHZhbHVlIHRvIG1ha2UgaXQgYXZhaWxhYmxlIHRvIHRoZSBuZXh0CiAgICAvLyBzdGVwIG9mIHRoZSBnZW5lcmF0b3IuCiAgICBvdXRwdXRFbGVtZW50Lmxhc3RQcm9taXNlVmFsdWUgPSB2YWx1ZTsKICAgIHJldHVybiBuZXh0LnZhbHVlLnJlc3BvbnNlOwogIH0pOwp9CgovKioKICogR2VuZXJhdG9yIGZ1bmN0aW9uIHdoaWNoIGlzIGNhbGxlZCBiZXR3ZWVuIGVhY2ggYXN5bmMgc3RlcCBvZiB0aGUgdXBsb2FkCiAqIHByb2Nlc3MuCiAqIEBwYXJhbSB7c3RyaW5nfSBpbnB1dElkIEVsZW1lbnQgSUQgb2YgdGhlIGlucHV0IGZpbGUgcGlja2VyIGVsZW1lbnQuCiAqIEBwYXJhbSB7c3RyaW5nfSBvdXRwdXRJZCBFbGVtZW50IElEIG9mIHRoZSBvdXRwdXQgZGlzcGxheS4KICogQHJldHVybiB7IUl0ZXJhYmxlPCFPYmplY3Q+fSBJdGVyYWJsZSBvZiBuZXh0IHN0ZXBzLgogKi8KZnVuY3Rpb24qIHVwbG9hZEZpbGVzU3RlcChpbnB1dElkLCBvdXRwdXRJZCkgewogIGNvbnN0IGlucHV0RWxlbWVudCA9IGRvY3VtZW50LmdldEVsZW1lbnRCeUlkKGlucHV0SWQpOwogIGlucHV0RWxlbWVudC5kaXNhYmxlZCA9IGZhbHNlOwoKICBjb25zdCBvdXRwdXRFbGVtZW50ID0gZG9jdW1lbnQuZ2V0RWxlbWVudEJ5SWQob3V0cHV0SWQpOwogIG91dHB1dEVsZW1lbnQuaW5uZXJIVE1MID0gJyc7CgogIGNvbnN0IHBpY2tlZFByb21pc2UgPSBuZXcgUHJvbWlzZSgocmVzb2x2ZSkgPT4gewogICAgaW5wdXRFbGVtZW50LmFkZEV2ZW50TGlzdGVuZXIoJ2NoYW5nZScsIChlKSA9PiB7CiAgICAgIHJlc29sdmUoZS50YXJnZXQuZmlsZXMpOwogICAgfSk7CiAgfSk7CgogIGNvbnN0IGNhbmNlbCA9IGRvY3VtZW50LmNyZWF0ZUVsZW1lbnQoJ2J1dHRvbicpOwogIGlucHV0RWxlbWVudC5wYXJlbnRFbGVtZW50LmFwcGVuZENoaWxkKGNhbmNlbCk7CiAgY2FuY2VsLnRleHRDb250ZW50ID0gJ0NhbmNlbCB1cGxvYWQnOwogIGNvbnN0IGNhbmNlbFByb21pc2UgPSBuZXcgUHJvbWlzZSgocmVzb2x2ZSkgPT4gewogICAgY2FuY2VsLm9uY2xpY2sgPSAoKSA9PiB7CiAgICAgIHJlc29sdmUobnVsbCk7CiAgICB9OwogIH0pOwoKICAvLyBXYWl0IGZvciB0aGUgdXNlciB0byBwaWNrIHRoZSBmaWxlcy4KICBjb25zdCBmaWxlcyA9IHlpZWxkIHsKICAgIHByb21pc2U6IFByb21pc2UucmFjZShbcGlja2VkUHJvbWlzZSwgY2FuY2VsUHJvbWlzZV0pLAogICAgcmVzcG9uc2U6IHsKICAgICAgYWN0aW9uOiAnc3RhcnRpbmcnLAogICAgfQogIH07CgogIGNhbmNlbC5yZW1vdmUoKTsKCiAgLy8gRGlzYWJsZSB0aGUgaW5wdXQgZWxlbWVudCBzaW5jZSBmdXJ0aGVyIHBpY2tzIGFyZSBub3QgYWxsb3dlZC4KICBpbnB1dEVsZW1lbnQuZGlzYWJsZWQgPSB0cnVlOwoKICBpZiAoIWZpbGVzKSB7CiAgICByZXR1cm4gewogICAgICByZXNwb25zZTogewogICAgICAgIGFjdGlvbjogJ2NvbXBsZXRlJywKICAgICAgfQogICAgfTsKICB9CgogIGZvciAoY29uc3QgZmlsZSBvZiBmaWxlcykgewogICAgY29uc3QgbGkgPSBkb2N1bWVudC5jcmVhdGVFbGVtZW50KCdsaScpOwogICAgbGkuYXBwZW5kKHNwYW4oZmlsZS5uYW1lLCB7Zm9udFdlaWdodDogJ2JvbGQnfSkpOwogICAgbGkuYXBwZW5kKHNwYW4oCiAgICAgICAgYCgke2ZpbGUudHlwZSB8fCAnbi9hJ30pIC0gJHtmaWxlLnNpemV9IGJ5dGVzLCBgICsKICAgICAgICBgbGFzdCBtb2RpZmllZDogJHsKICAgICAgICAgICAgZmlsZS5sYXN0TW9kaWZpZWREYXRlID8gZmlsZS5sYXN0TW9kaWZpZWREYXRlLnRvTG9jYWxlRGF0ZVN0cmluZygpIDoKICAgICAgICAgICAgICAgICAgICAgICAgICAgICAgICAgICAgJ24vYSd9IC0gYCkpOwogICAgY29uc3QgcGVyY2VudCA9IHNwYW4oJzAlIGRvbmUnKTsKICAgIGxpLmFwcGVuZENoaWxkKHBlcmNlbnQpOwoKICAgIG91dHB1dEVsZW1lbnQuYXBwZW5kQ2hpbGQobGkpOwoKICAgIGNvbnN0IGZpbGVEYXRhUHJvbWlzZSA9IG5ldyBQcm9taXNlKChyZXNvbHZlKSA9PiB7CiAgICAgIGNvbnN0IHJlYWRlciA9IG5ldyBGaWxlUmVhZGVyKCk7CiAgICAgIHJlYWRlci5vbmxvYWQgPSAoZSkgPT4gewogICAgICAgIHJlc29sdmUoZS50YXJnZXQucmVzdWx0KTsKICAgICAgfTsKICAgICAgcmVhZGVyLnJlYWRBc0FycmF5QnVmZmVyKGZpbGUpOwogICAgfSk7CiAgICAvLyBXYWl0IGZvciB0aGUgZGF0YSB0byBiZSByZWFkeS4KICAgIGxldCBmaWxlRGF0YSA9IHlpZWxkIHsKICAgICAgcHJvbWlzZTogZmlsZURhdGFQcm9taXNlLAogICAgICByZXNwb25zZTogewogICAgICAgIGFjdGlvbjogJ2NvbnRpbnVlJywKICAgICAgfQogICAgfTsKCiAgICAvLyBVc2UgYSBjaHVua2VkIHNlbmRpbmcgdG8gYXZvaWQgbWVzc2FnZSBzaXplIGxpbWl0cy4gU2VlIGIvNjIxMTU2NjAuCiAgICBsZXQgcG9zaXRpb24gPSAwOwogICAgZG8gewogICAgICBjb25zdCBsZW5ndGggPSBNYXRoLm1pbihmaWxlRGF0YS5ieXRlTGVuZ3RoIC0gcG9zaXRpb24sIE1BWF9QQVlMT0FEX1NJWkUpOwogICAgICBjb25zdCBjaHVuayA9IG5ldyBVaW50OEFycmF5KGZpbGVEYXRhLCBwb3NpdGlvbiwgbGVuZ3RoKTsKICAgICAgcG9zaXRpb24gKz0gbGVuZ3RoOwoKICAgICAgY29uc3QgYmFzZTY0ID0gYnRvYShTdHJpbmcuZnJvbUNoYXJDb2RlLmFwcGx5KG51bGwsIGNodW5rKSk7CiAgICAgIHlpZWxkIHsKICAgICAgICByZXNwb25zZTogewogICAgICAgICAgYWN0aW9uOiAnYXBwZW5kJywKICAgICAgICAgIGZpbGU6IGZpbGUubmFtZSwKICAgICAgICAgIGRhdGE6IGJhc2U2NCwKICAgICAgICB9LAogICAgICB9OwoKICAgICAgbGV0IHBlcmNlbnREb25lID0gZmlsZURhdGEuYnl0ZUxlbmd0aCA9PT0gMCA/CiAgICAgICAgICAxMDAgOgogICAgICAgICAgTWF0aC5yb3VuZCgocG9zaXRpb24gLyBmaWxlRGF0YS5ieXRlTGVuZ3RoKSAqIDEwMCk7CiAgICAgIHBlcmNlbnQudGV4dENvbnRlbnQgPSBgJHtwZXJjZW50RG9uZX0lIGRvbmVgOwoKICAgIH0gd2hpbGUgKHBvc2l0aW9uIDwgZmlsZURhdGEuYnl0ZUxlbmd0aCk7CiAgfQoKICAvLyBBbGwgZG9uZS4KICB5aWVsZCB7CiAgICByZXNwb25zZTogewogICAgICBhY3Rpb246ICdjb21wbGV0ZScsCiAgICB9CiAgfTsKfQoKc2NvcGUuZ29vZ2xlID0gc2NvcGUuZ29vZ2xlIHx8IHt9OwpzY29wZS5nb29nbGUuY29sYWIgPSBzY29wZS5nb29nbGUuY29sYWIgfHwge307CnNjb3BlLmdvb2dsZS5jb2xhYi5fZmlsZXMgPSB7CiAgX3VwbG9hZEZpbGVzLAogIF91cGxvYWRGaWxlc0NvbnRpbnVlLAp9Owp9KShzZWxmKTsK",
              "ok": true,
              "headers": [
                [
                  "content-type",
                  "application/javascript"
                ]
              ],
              "status": 200,
              "status_text": ""
            }
          },
          "base_uri": "https://localhost:8080/",
          "height": 74
        },
        "id": "JJe_JZZZuW9m",
        "outputId": "d67785f0-62b2-454b-e0a5-3333be5e8b76"
      },
      "execution_count": null,
      "outputs": [
        {
          "output_type": "display_data",
          "data": {
            "text/plain": [
              "<IPython.core.display.HTML object>"
            ],
            "text/html": [
              "\n",
              "     <input type=\"file\" id=\"files-434209aa-9e87-4d5f-9ebf-a4db75010e50\" name=\"files[]\" multiple disabled\n",
              "        style=\"border:none\" />\n",
              "     <output id=\"result-434209aa-9e87-4d5f-9ebf-a4db75010e50\">\n",
              "      Upload widget is only available when the cell has been executed in the\n",
              "      current browser session. Please rerun this cell to enable.\n",
              "      </output>\n",
              "      <script src=\"/nbextensions/google.colab/files.js\"></script> "
            ]
          },
          "metadata": {}
        },
        {
          "output_type": "stream",
          "name": "stdout",
          "text": [
            "Saving 0001_L.png to 0001_L (1).png\n"
          ]
        }
      ]
    },
    {
      "cell_type": "code",
      "source": [
        "new_image = plt.imread('0001_L (1).png')\n",
        "img=plt.imshow(new_image)"
      ],
      "metadata": {
        "colab": {
          "base_uri": "https://localhost:8080/",
          "height": 285
        },
        "id": "A8MGnBBquq_r",
        "outputId": "bbd484be-2191-472b-a879-a206a08d90bb"
      },
      "execution_count": null,
      "outputs": [
        {
          "output_type": "display_data",
          "data": {
            "text/plain": [
              "<Figure size 432x288 with 1 Axes>"
            ],
            "image/png": "[encoded data removed]"
          },
          "metadata": {}
        }
      ]
    },
    {
      "cell_type": "code",
      "source": [
        "#Resize the image\n",
        "from skimage.transform import resize\n",
        "resized_image = resize(new_image,(64,64,3))/255\n",
        "img = plt.imshow(resized_image*255)"
      ],
      "metadata": {
        "colab": {
          "base_uri": "https://localhost:8080/",
          "height": 285
        },
        "id": "CjMFHpV7u0R2",
        "outputId": "ff613f92-3f2a-4bc8-fcc2-5df45b38ba94"
      },
      "execution_count": null,
      "outputs": [
        {
          "output_type": "display_data",
          "data": {
            "text/plain": [
              "<Figure size 432x288 with 1 Axes>"
            ],
            "image/png": "[encoded data removed]"
          },
          "metadata": {}
        }
      ]
    },
    {
      "cell_type": "code",
      "source": [
        "#Get the models predictions\n",
        "probability_model = tf.keras.Sequential([model, tf.keras.layers.Softmax()])\n",
        "predictions = probability_model.predict(np.array([resized_image]))\n",
        "#Show the predictions\n",
        "predictions"
      ],
      "metadata": {
        "colab": {
          "base_uri": "https://localhost:8080/"
        },
        "id": "SzIKLHROu7-p",
        "outputId": "d0b3929c-5196-482d-99df-99eb3ade2721"
      },
      "execution_count": null,
      "outputs": [
        {
          "output_type": "execute_result",
          "data": {
            "text/plain": [
              "array([[0.05349347, 0.053494  , 0.0534934 , 0.0534934 , 0.0534934 ,\n",
              "        0.0534934 , 0.05349354, 0.0534934 , 0.05372817, 0.14333333,\n",
              "        0.05351488, 0.05351184, 0.05349497, 0.05349749, 0.05397847,\n",
              "        0.0534994 , 0.0534934 ]], dtype=float32)"
            ]
          },
          "metadata": {},
          "execution_count": 297
        }
      ]
    },
    {
      "cell_type": "code",
      "source": [
        "index=int(np.argmax(predictions,axis=1))\n",
        "print(Classification[index])"
      ],
      "metadata": {
        "colab": {
          "base_uri": "https://localhost:8080/"
        },
        "id": "0PFk-v0_VKqP",
        "outputId": "06809c09-3497-4b09-dfa0-a89a033f5ac3"
      },
      "execution_count": null,
      "outputs": [
        {
          "output_type": "stream",
          "name": "stdout",
          "text": [
            "Toy Trucks\n"
          ]
        }
      ]
    },
    {
      "cell_type": "code",
      "source": [
        "list_index = [0,1,2,3,4,5,6,7,8,9,10,11,12,13,14,15,16]\n",
        "for i in range(17):\n",
        "  print(Classification[list_index[i]],':', round(predictions[0][list_index[i]]*100,2), '%')\n",
        "\n"
      ],
      "metadata": {
        "colab": {
          "base_uri": "https://localhost:8080/"
        },
        "id": "1bQAksKLu-Yh",
        "outputId": "38f7b5c4-7d14-41b1-9466-9d3291db7547"
      },
      "execution_count": null,
      "outputs": [
        {
          "output_type": "stream",
          "name": "stdout",
          "text": [
            "Building Blocks : 5.35 %\n",
            "Dinosaur : 5.35 %\n",
            "Elephant Stuffed : 5.35 %\n",
            "Pencils : 5.35 %\n",
            "Unicorn : 5.35 %\n",
            "Airplane : 5.35 %\n",
            "Teddy Bear : 5.35 %\n",
            "Balls : 5.35 %\n",
            "Toy Cars : 5.37 %\n",
            "Toy Trucks : 14.33 %\n",
            "Telephone : 5.35 %\n",
            "Tea Cup : 5.35 %\n",
            "Cubes : 5.35 %\n",
            "Lion : 5.35 %\n",
            "Toy Boat : 5.4 %\n",
            "Folded Papers : 5.35 %\n",
            "Empty Bottles : 5.35 %\n"
          ]
        }
      ]
    }
  ]
}
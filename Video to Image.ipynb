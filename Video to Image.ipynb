{
  "nbformat": 4,
  "nbformat_minor": 0,
  "metadata": {
    "colab": {
      "name": "VideotoImage.ipynb",
      "provenance": [],
      "authorship_tag": "ABX9TyO5qtLTt2k3vbfiil0/p7pR",
      "include_colab_link": true
    },
    "kernelspec": {
      "name": "python3",
      "display_name": "Python 3"
    },
    "language_info": {
      "name": "python"
    }
  },
  "cells": [
    {
      "cell_type": "markdown",
      "metadata": {
        "id": "view-in-github",
        "colab_type": "text"
      },
      "source": [
        "<a href=\"https://colab.research.google.com/github/NethmiJayasinghe/FYP-Image-Classification/blob/main/Video%20to%20Image.ipynb\" target=\"_parent\"><img src=\"https://colab.research.google.com/assets/colab-badge.svg\" alt=\"Open In Colab\"/></a>"
      ]
    },
    {
      "cell_type": "code",
      "metadata": {
        "id": "1jMxuq8BYBcL"
      },
      "source": [
        "import cv2\n",
        "import os"
      ],
      "execution_count": null,
      "outputs": []
    },
    {
      "cell_type": "code",
      "metadata": {
        "id": "OFPTCuiyYMim"
      },
      "source": [
        "cam = cv2.VideoCapture('/content/WhatsApp Video 2021-11-24 at 6.02.00 PM.mp4')\n",
        "currentframe = 0\n",
        "while(True):\n",
        "  ret,frame = cam.read()\n",
        "  path = '/content/Data'\n",
        "  if ret:\n",
        "    name = path +'/frame' + str(currentframe) + '.jpg'\n",
        "    cv2.imwrite(name,frame)\n",
        "    currentframe += 1\n",
        "  else:\n",
        "    break\n",
        "cam.release() \n",
        "cv2.destroyAllWindows() "
      ],
      "execution_count": null,
      "outputs": []
    },
    {
      "cell_type": "code",
      "metadata": {
        "id": "Mi_6QDwYZ6rR"
      },
      "source": [
        "print (currentframe)"
      ],
      "execution_count": null,
      "outputs": []
    }
  ]
}